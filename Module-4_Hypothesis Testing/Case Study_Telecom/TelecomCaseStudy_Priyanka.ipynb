{
 "cells": [
  {
   "cell_type": "code",
   "execution_count": 1,
   "metadata": {},
   "outputs": [],
   "source": [
    "import pandas as pd\n",
    "import matplotlib.pyplot as plt\n",
    "import seaborn as sns\n",
    "import numpy as np\n",
    "import scipy as sc\n",
    "import os\n",
    "from statsmodels.formula.api import ols\n",
    "import statsmodels.api as sm"
   ]
  },
  {
   "cell_type": "code",
   "execution_count": 2,
   "metadata": {},
   "outputs": [
    {
     "data": {
      "text/plain": [
       "Month_Year                datetime64[ns]\n",
       "LSA                               object\n",
       "Service_Provider                  object\n",
       "Technology                        object\n",
       "Median_Speed                     float64\n",
       "Median_Signal_Strength           float64\n",
       "dtype: object"
      ]
     },
     "execution_count": 2,
     "metadata": {},
     "output_type": "execute_result"
    }
   ],
   "source": [
    "#reading the file for doing case study\n",
    "df=pd.read_excel(\"Telecom_data.xlsx\")\n",
    "#looking on the data type of input data\n",
    "df.dtypes"
   ]
  },
  {
   "cell_type": "code",
   "execution_count": 3,
   "metadata": {},
   "outputs": [
    {
     "data": {
      "text/plain": [
       "(3371, 6)"
      ]
     },
     "execution_count": 3,
     "metadata": {},
     "output_type": "execute_result"
    }
   ],
   "source": [
    "df.shape"
   ]
  },
  {
   "cell_type": "code",
   "execution_count": 4,
   "metadata": {},
   "outputs": [
    {
     "data": {
      "text/html": [
       "<div>\n",
       "<style scoped>\n",
       "    .dataframe tbody tr th:only-of-type {\n",
       "        vertical-align: middle;\n",
       "    }\n",
       "\n",
       "    .dataframe tbody tr th {\n",
       "        vertical-align: top;\n",
       "    }\n",
       "\n",
       "    .dataframe thead th {\n",
       "        text-align: right;\n",
       "    }\n",
       "</style>\n",
       "<table border=\"1\" class=\"dataframe\">\n",
       "  <thead>\n",
       "    <tr style=\"text-align: right;\">\n",
       "      <th></th>\n",
       "      <th>Month_Year</th>\n",
       "      <th>LSA</th>\n",
       "      <th>Service_Provider</th>\n",
       "      <th>Technology</th>\n",
       "      <th>Median_Speed</th>\n",
       "      <th>Median_Signal_Strength</th>\n",
       "    </tr>\n",
       "  </thead>\n",
       "  <tbody>\n",
       "    <tr>\n",
       "      <th>0</th>\n",
       "      <td>2018-03-01</td>\n",
       "      <td>Andhra Pradesh</td>\n",
       "      <td>AIRTEL</td>\n",
       "      <td>3G</td>\n",
       "      <td>1.105</td>\n",
       "      <td>-85.0</td>\n",
       "    </tr>\n",
       "    <tr>\n",
       "      <th>1</th>\n",
       "      <td>2018-03-01</td>\n",
       "      <td>Andhra Pradesh</td>\n",
       "      <td>IDEA</td>\n",
       "      <td>3G</td>\n",
       "      <td>1.880</td>\n",
       "      <td>-81.0</td>\n",
       "    </tr>\n",
       "    <tr>\n",
       "      <th>2</th>\n",
       "      <td>2018-03-01</td>\n",
       "      <td>Andhra Pradesh</td>\n",
       "      <td>AIRTEL</td>\n",
       "      <td>4G</td>\n",
       "      <td>5.190</td>\n",
       "      <td>-97.0</td>\n",
       "    </tr>\n",
       "    <tr>\n",
       "      <th>3</th>\n",
       "      <td>2018-03-01</td>\n",
       "      <td>Andhra Pradesh</td>\n",
       "      <td>IDEA</td>\n",
       "      <td>4G</td>\n",
       "      <td>2.120</td>\n",
       "      <td>-91.0</td>\n",
       "    </tr>\n",
       "    <tr>\n",
       "      <th>4</th>\n",
       "      <td>2018-03-01</td>\n",
       "      <td>Andhra Pradesh</td>\n",
       "      <td>JIO</td>\n",
       "      <td>4G</td>\n",
       "      <td>6.940</td>\n",
       "      <td>-91.0</td>\n",
       "    </tr>\n",
       "  </tbody>\n",
       "</table>\n",
       "</div>"
      ],
      "text/plain": [
       "  Month_Year             LSA Service_Provider Technology  Median_Speed  \\\n",
       "0 2018-03-01  Andhra Pradesh           AIRTEL         3G         1.105   \n",
       "1 2018-03-01  Andhra Pradesh             IDEA         3G         1.880   \n",
       "2 2018-03-01  Andhra Pradesh           AIRTEL         4G         5.190   \n",
       "3 2018-03-01  Andhra Pradesh             IDEA         4G         2.120   \n",
       "4 2018-03-01  Andhra Pradesh              JIO         4G         6.940   \n",
       "\n",
       "   Median_Signal_Strength  \n",
       "0                   -85.0  \n",
       "1                   -81.0  \n",
       "2                   -97.0  \n",
       "3                   -91.0  \n",
       "4                   -91.0  "
      ]
     },
     "execution_count": 4,
     "metadata": {},
     "output_type": "execute_result"
    }
   ],
   "source": [
    "df.head()"
   ]
  },
  {
   "cell_type": "code",
   "execution_count": 5,
   "metadata": {},
   "outputs": [
    {
     "data": {
      "text/plain": [
       "Month_Year                datetime64[ns]\n",
       "LSA                               object\n",
       "Service_Provider                  object\n",
       "Technology                        object\n",
       "Median_Speed                     float64\n",
       "Median_Signal_Strength           float64\n",
       "dtype: object"
      ]
     },
     "execution_count": 5,
     "metadata": {},
     "output_type": "execute_result"
    }
   ],
   "source": [
    "df.dtypes"
   ]
  },
  {
   "cell_type": "code",
   "execution_count": 6,
   "metadata": {},
   "outputs": [
    {
     "data": {
      "text/html": [
       "<div>\n",
       "<style scoped>\n",
       "    .dataframe tbody tr th:only-of-type {\n",
       "        vertical-align: middle;\n",
       "    }\n",
       "\n",
       "    .dataframe tbody tr th {\n",
       "        vertical-align: top;\n",
       "    }\n",
       "\n",
       "    .dataframe thead th {\n",
       "        text-align: right;\n",
       "    }\n",
       "</style>\n",
       "<table border=\"1\" class=\"dataframe\">\n",
       "  <thead>\n",
       "    <tr style=\"text-align: right;\">\n",
       "      <th></th>\n",
       "      <th>Month_Year</th>\n",
       "      <th>LSA</th>\n",
       "      <th>Service_Provider</th>\n",
       "      <th>Technology</th>\n",
       "      <th>Median_Speed</th>\n",
       "      <th>Median_Signal_Strength</th>\n",
       "    </tr>\n",
       "  </thead>\n",
       "  <tbody>\n",
       "    <tr>\n",
       "      <th>0</th>\n",
       "      <td>2018-03-01</td>\n",
       "      <td>Andhra Pradesh</td>\n",
       "      <td>AIRTEL</td>\n",
       "      <td>3G</td>\n",
       "      <td>1.105</td>\n",
       "      <td>-85.0</td>\n",
       "    </tr>\n",
       "    <tr>\n",
       "      <th>1</th>\n",
       "      <td>2018-03-01</td>\n",
       "      <td>Andhra Pradesh</td>\n",
       "      <td>IDEA</td>\n",
       "      <td>3G</td>\n",
       "      <td>1.880</td>\n",
       "      <td>-81.0</td>\n",
       "    </tr>\n",
       "    <tr>\n",
       "      <th>2</th>\n",
       "      <td>2018-03-01</td>\n",
       "      <td>Andhra Pradesh</td>\n",
       "      <td>AIRTEL</td>\n",
       "      <td>4G</td>\n",
       "      <td>5.190</td>\n",
       "      <td>-97.0</td>\n",
       "    </tr>\n",
       "    <tr>\n",
       "      <th>3</th>\n",
       "      <td>2018-03-01</td>\n",
       "      <td>Andhra Pradesh</td>\n",
       "      <td>IDEA</td>\n",
       "      <td>4G</td>\n",
       "      <td>2.120</td>\n",
       "      <td>-91.0</td>\n",
       "    </tr>\n",
       "    <tr>\n",
       "      <th>4</th>\n",
       "      <td>2018-03-01</td>\n",
       "      <td>Andhra Pradesh</td>\n",
       "      <td>JIO</td>\n",
       "      <td>4G</td>\n",
       "      <td>6.940</td>\n",
       "      <td>-91.0</td>\n",
       "    </tr>\n",
       "  </tbody>\n",
       "</table>\n",
       "</div>"
      ],
      "text/plain": [
       "  Month_Year             LSA Service_Provider Technology  Median_Speed  \\\n",
       "0 2018-03-01  Andhra Pradesh           AIRTEL         3G         1.105   \n",
       "1 2018-03-01  Andhra Pradesh             IDEA         3G         1.880   \n",
       "2 2018-03-01  Andhra Pradesh           AIRTEL         4G         5.190   \n",
       "3 2018-03-01  Andhra Pradesh             IDEA         4G         2.120   \n",
       "4 2018-03-01  Andhra Pradesh              JIO         4G         6.940   \n",
       "\n",
       "   Median_Signal_Strength  \n",
       "0                   -85.0  \n",
       "1                   -81.0  \n",
       "2                   -97.0  \n",
       "3                   -91.0  \n",
       "4                   -91.0  "
      ]
     },
     "execution_count": 6,
     "metadata": {},
     "output_type": "execute_result"
    }
   ],
   "source": [
    "df.head()"
   ]
  },
  {
   "cell_type": "code",
   "execution_count": 7,
   "metadata": {},
   "outputs": [
    {
     "data": {
      "text/plain": [
       "Month_Year                0.0\n",
       "LSA                       0.0\n",
       "Service_Provider          0.0\n",
       "Technology                0.0\n",
       "Median_Speed              0.0\n",
       "Median_Signal_Strength    0.0\n",
       "dtype: float64"
      ]
     },
     "execution_count": 7,
     "metadata": {},
     "output_type": "execute_result"
    }
   ],
   "source": [
    "#Identification of mising values in dataframe\n",
    "df.isna().sum()/(len(df))*100"
   ]
  },
  {
   "cell_type": "markdown",
   "metadata": {},
   "source": [
    "***Wow! No Missing values found in dataframe***"
   ]
  },
  {
   "cell_type": "markdown",
   "metadata": {},
   "source": [
    "# Solution to Q.1.: Provide summary statistics of data speed and signal strength in your LSA (i.e. the LSA in which you live: Haryana)"
   ]
  },
  {
   "cell_type": "code",
   "execution_count": 12,
   "metadata": {},
   "outputs": [
    {
     "data": {
      "text/html": [
       "<div>\n",
       "<style scoped>\n",
       "    .dataframe tbody tr th:only-of-type {\n",
       "        vertical-align: middle;\n",
       "    }\n",
       "\n",
       "    .dataframe tbody tr th {\n",
       "        vertical-align: top;\n",
       "    }\n",
       "\n",
       "    .dataframe thead th {\n",
       "        text-align: right;\n",
       "    }\n",
       "</style>\n",
       "<table border=\"1\" class=\"dataframe\">\n",
       "  <thead>\n",
       "    <tr style=\"text-align: right;\">\n",
       "      <th></th>\n",
       "      <th>Median_Speed</th>\n",
       "      <th>Median_Signal_Strength</th>\n",
       "    </tr>\n",
       "  </thead>\n",
       "  <tbody>\n",
       "    <tr>\n",
       "      <th>count</th>\n",
       "      <td>100.00000</td>\n",
       "      <td>100.000000</td>\n",
       "    </tr>\n",
       "    <tr>\n",
       "      <th>mean</th>\n",
       "      <td>5.20629</td>\n",
       "      <td>-93.950000</td>\n",
       "    </tr>\n",
       "    <tr>\n",
       "      <th>std</th>\n",
       "      <td>4.42201</td>\n",
       "      <td>4.478625</td>\n",
       "    </tr>\n",
       "    <tr>\n",
       "      <th>min</th>\n",
       "      <td>1.40300</td>\n",
       "      <td>-102.000000</td>\n",
       "    </tr>\n",
       "    <tr>\n",
       "      <th>25%</th>\n",
       "      <td>2.92100</td>\n",
       "      <td>-96.500000</td>\n",
       "    </tr>\n",
       "    <tr>\n",
       "      <th>50%</th>\n",
       "      <td>4.27300</td>\n",
       "      <td>-95.000000</td>\n",
       "    </tr>\n",
       "    <tr>\n",
       "      <th>75%</th>\n",
       "      <td>5.51850</td>\n",
       "      <td>-93.000000</td>\n",
       "    </tr>\n",
       "    <tr>\n",
       "      <th>max</th>\n",
       "      <td>32.49000</td>\n",
       "      <td>-69.000000</td>\n",
       "    </tr>\n",
       "  </tbody>\n",
       "</table>\n",
       "</div>"
      ],
      "text/plain": [
       "       Median_Speed  Median_Signal_Strength\n",
       "count     100.00000              100.000000\n",
       "mean        5.20629              -93.950000\n",
       "std         4.42201                4.478625\n",
       "min         1.40300             -102.000000\n",
       "25%         2.92100              -96.500000\n",
       "50%         4.27300              -95.000000\n",
       "75%         5.51850              -93.000000\n",
       "max        32.49000              -69.000000"
      ]
     },
     "execution_count": 12,
     "metadata": {},
     "output_type": "execute_result"
    }
   ],
   "source": [
    "#subsetting of dataframe for Haryana LSA\n",
    "df_haryana=df[df['LSA']==\"Haryana\"]\n",
    "#Statistical summary for Haryana LSA 4G data\n",
    "df_haryana_4g = df_haryana[df_haryana['Technology']==\"4G\"]\n",
    "df_haryana_4g.describe()"
   ]
  },
  {
   "cell_type": "code",
   "execution_count": 13,
   "metadata": {},
   "outputs": [
    {
     "data": {
      "text/html": [
       "<div>\n",
       "<style scoped>\n",
       "    .dataframe tbody tr th:only-of-type {\n",
       "        vertical-align: middle;\n",
       "    }\n",
       "\n",
       "    .dataframe tbody tr th {\n",
       "        vertical-align: top;\n",
       "    }\n",
       "\n",
       "    .dataframe thead th {\n",
       "        text-align: right;\n",
       "    }\n",
       "</style>\n",
       "<table border=\"1\" class=\"dataframe\">\n",
       "  <thead>\n",
       "    <tr style=\"text-align: right;\">\n",
       "      <th></th>\n",
       "      <th>Median_Speed</th>\n",
       "      <th>Median_Signal_Strength</th>\n",
       "    </tr>\n",
       "  </thead>\n",
       "  <tbody>\n",
       "    <tr>\n",
       "      <th>count</th>\n",
       "      <td>72.000000</td>\n",
       "      <td>72.000000</td>\n",
       "    </tr>\n",
       "    <tr>\n",
       "      <th>mean</th>\n",
       "      <td>1.522306</td>\n",
       "      <td>-83.638889</td>\n",
       "    </tr>\n",
       "    <tr>\n",
       "      <th>std</th>\n",
       "      <td>0.927624</td>\n",
       "      <td>6.753832</td>\n",
       "    </tr>\n",
       "    <tr>\n",
       "      <th>min</th>\n",
       "      <td>0.266000</td>\n",
       "      <td>-99.000000</td>\n",
       "    </tr>\n",
       "    <tr>\n",
       "      <th>25%</th>\n",
       "      <td>0.836000</td>\n",
       "      <td>-87.250000</td>\n",
       "    </tr>\n",
       "    <tr>\n",
       "      <th>50%</th>\n",
       "      <td>1.338250</td>\n",
       "      <td>-84.000000</td>\n",
       "    </tr>\n",
       "    <tr>\n",
       "      <th>75%</th>\n",
       "      <td>2.070625</td>\n",
       "      <td>-80.750000</td>\n",
       "    </tr>\n",
       "    <tr>\n",
       "      <th>max</th>\n",
       "      <td>4.380000</td>\n",
       "      <td>-57.000000</td>\n",
       "    </tr>\n",
       "  </tbody>\n",
       "</table>\n",
       "</div>"
      ],
      "text/plain": [
       "       Median_Speed  Median_Signal_Strength\n",
       "count     72.000000               72.000000\n",
       "mean       1.522306              -83.638889\n",
       "std        0.927624                6.753832\n",
       "min        0.266000              -99.000000\n",
       "25%        0.836000              -87.250000\n",
       "50%        1.338250              -84.000000\n",
       "75%        2.070625              -80.750000\n",
       "max        4.380000              -57.000000"
      ]
     },
     "execution_count": 13,
     "metadata": {},
     "output_type": "execute_result"
    }
   ],
   "source": [
    "#Statistical summary for Haryana LSA 3G data\n",
    "df_haryana_3g = df_haryana[df_haryana['Technology']==\"3G\"]\n",
    "df_haryana_3g.describe()"
   ]
  },
  {
   "cell_type": "markdown",
   "metadata": {},
   "source": [
    "# Question2: Draw a side-by-side box plot of 4G data speeds in your LSA and that in Karnataka LSA? Do you see any significant difference in data speeds between the two LSAs?  "
   ]
  },
  {
   "cell_type": "code",
   "execution_count": 14,
   "metadata": {},
   "outputs": [],
   "source": [
    "Haryana4GMediaSpeed=df.loc[(df.LSA == 'Haryana') & (df.Technology == '4G') ,'Median_Speed']\n",
    "Karnataka4GMediaSpeed=df.loc[(df.LSA == 'Karnataka') & (df.Technology == '4G') ,'Median_Speed']"
   ]
  },
  {
   "cell_type": "code",
   "execution_count": 15,
   "metadata": {
    "scrolled": true
   },
   "outputs": [
    {
     "data": {
      "image/png": "[encoded data removed]",
      "text/plain": [
       "<Figure size 1600x800 with 2 Axes>"
      ]
     },
     "metadata": {},
     "output_type": "display_data"
    }
   ],
   "source": [
    "#box plot\n",
    "plt.figure(figsize=(16, 8))\n",
    "plt.subplot(1,2,1)\n",
    "sns.boxplot(y=Haryana4GMediaSpeed,color='red', showfliers= False).set(xlabel = \"Haryana LSA\")\n",
    "plt.subplot(1,2,2)\n",
    "sns.boxplot(y=Karnataka4GMediaSpeed,color='yellow', showfliers= False).set(xlabel = \"Karnataka LSA\")\n",
    "plt.show()\n"
   ]
  },
  {
   "cell_type": "markdown",
   "metadata": {},
   "source": [
    "**From above diagram it is clear that 50th percentile of Haryana Median Speed is more than that of karnataka. Variation in Haryana speed is more than than that of karnataka**"
   ]
  },
  {
   "cell_type": "markdown",
   "metadata": {},
   "source": [
    "# Question3: State the hypothesis; perform the required test, and prove whether the average 4G data speed in your LSA significantly different from that experienced in Karnataka LSA?"
   ]
  },
  {
   "cell_type": "markdown",
   "metadata": {},
   "source": [
    "**This is the third Use case where we form null hypothesis as**\n",
    "\n",
    "**H0=Average 4G Data speed in Haryana LSA is equal to Average 4G Data speed in Karnataka LSA**\n",
    "\n",
    "**H1=Average 4G Data speed in Haryana LSA is not equal to Average 4G Data speed in Karnataka LSA**"
   ]
  },
  {
   "cell_type": "code",
   "execution_count": 16,
   "metadata": {},
   "outputs": [],
   "source": [
    "def test_hypothesis_2sample_t_test(sample1,sample2,threshold):\n",
    "    out=sc.stats.ttest_ind(sample1,sample2,equal_var=False)\n",
    "    print (out)\n",
    "    pNullProb=round(out.pvalue*100,4)\n",
    "    print ('Probablity of Null hypothesis is '+str(pNullProb)+'%')\n",
    "    if pNullProb<threshold:\n",
    "        print ('Which is less than the threshold of '+str(threshold)+ ' %')\n",
    "        return 'Reject The Null Hypothesis'\n",
    "    else:\n",
    "        print ('Which is greater than the threshold of '+str(threshold)+ '%')\n",
    "        return 'Fail to Reject the Null Hypothesis'\n",
    "#print (out.pvalue)"
   ]
  },
  {
   "cell_type": "code",
   "execution_count": 17,
   "metadata": {},
   "outputs": [
    {
     "name": "stdout",
     "output_type": "stream",
     "text": [
      "Ttest_indResult(statistic=-1.170000387624187, pvalue=0.243867679084539)\n",
      "Probablity of Null hypothesis is 24.3868%\n",
      "Which is greater than the threshold of 5%\n"
     ]
    },
    {
     "data": {
      "text/plain": [
       "'Fail to Reject the Null Hypothesis'"
      ]
     },
     "execution_count": 17,
     "metadata": {},
     "output_type": "execute_result"
    }
   ],
   "source": [
    "#test our first usecase that is average speed of 4 g netwtork for Haryana and karnataka with 95% accuracy.\n",
    "#Hence take a threshold=5\n",
    "test_hypothesis_2sample_t_test(Haryana4GMediaSpeed,Karnataka4GMediaSpeed,5)"
   ]
  },
  {
   "cell_type": "markdown",
   "metadata": {},
   "source": [
    "**Hence we fail to reject the null hypothesis that Average 4G Data speed in Haryana LSA is equal to Average 4G Data speed in Karnataka LSA.**"
   ]
  },
  {
   "cell_type": "markdown",
   "metadata": {},
   "source": [
    "# Question4: State the hypothesis; perform the required test, and prove whether the speeds of 4G networks of different operators across India are the same or different."
   ]
  },
  {
   "cell_type": "markdown",
   "metadata": {},
   "source": [
    "**This is fourth use case. Here we want to check whether speed of different operators is same or different.**\n",
    "\n",
    "**H0=mean('Airtel')=mean('Idea')=mean('Vodafone')=mean('Jio')\n",
    "H1= atleast one of the 4 has different speed**\n",
    "\n",
    "**Hence we want to solve this problem using 2 methods:**\n",
    "**1. One way Annova**\n",
    "**2. One way annova using OLS**"
   ]
  },
  {
   "cell_type": "markdown",
   "metadata": {},
   "source": [
    "**First approach is one way annova function for which we are calculating 4g median speed for different operators in order to pass it to one way annova function**"
   ]
  },
  {
   "cell_type": "code",
   "execution_count": 18,
   "metadata": {},
   "outputs": [],
   "source": [
    "AirtelSpeed=df.loc[(df.Service_Provider == 'AIRTEL') & (df.Technology=='4G') ,'Median_Speed']\n",
    "JioSpeed=df.loc[(df.Service_Provider == 'JIO')  & (df.Technology=='4G') ,'Median_Speed']\n",
    "VodafoneSpeed=df.loc[(df.Service_Provider == 'VODAFONE')  & (df.Technology=='4G') ,'Median_Speed']\n",
    "IdeaSpeed=df.loc[(df.Service_Provider == 'IDEA')  & (df.Technology=='4G') ,'Median_Speed']"
   ]
  },
  {
   "cell_type": "code",
   "execution_count": 19,
   "metadata": {},
   "outputs": [
    {
     "data": {
      "text/plain": [
       "count    550.000000\n",
       "mean       5.555664\n",
       "std        2.359917\n",
       "min        0.316000\n",
       "25%        3.915500\n",
       "50%        5.247000\n",
       "75%        6.970875\n",
       "max       23.966000\n",
       "Name: Median_Speed, dtype: float64"
      ]
     },
     "execution_count": 19,
     "metadata": {},
     "output_type": "execute_result"
    }
   ],
   "source": [
    "AirtelSpeed.describe()"
   ]
  },
  {
   "cell_type": "code",
   "execution_count": 20,
   "metadata": {},
   "outputs": [
    {
     "data": {
      "text/plain": [
       "count    550.000000\n",
       "mean      10.724174\n",
       "std       10.995220\n",
       "min        0.301000\n",
       "25%        3.440875\n",
       "50%        5.675500\n",
       "75%       13.378750\n",
       "max       52.255000\n",
       "Name: Median_Speed, dtype: float64"
      ]
     },
     "execution_count": 20,
     "metadata": {},
     "output_type": "execute_result"
    }
   ],
   "source": [
    "JioSpeed.describe()"
   ]
  },
  {
   "cell_type": "code",
   "execution_count": 21,
   "metadata": {},
   "outputs": [
    {
     "data": {
      "text/plain": [
       "count    443.000000\n",
       "mean       4.058477\n",
       "std        2.852434\n",
       "min        0.003500\n",
       "25%        2.150000\n",
       "50%        3.565000\n",
       "75%        5.260750\n",
       "max       34.462000\n",
       "Name: Median_Speed, dtype: float64"
      ]
     },
     "execution_count": 21,
     "metadata": {},
     "output_type": "execute_result"
    }
   ],
   "source": [
    "VodafoneSpeed.describe()"
   ]
  },
  {
   "cell_type": "code",
   "execution_count": 22,
   "metadata": {},
   "outputs": [
    {
     "data": {
      "text/plain": [
       "count    484.000000\n",
       "mean       4.025926\n",
       "std        2.813295\n",
       "min        0.008000\n",
       "25%        2.411375\n",
       "50%        3.538500\n",
       "75%        4.938125\n",
       "max       30.462500\n",
       "Name: Median_Speed, dtype: float64"
      ]
     },
     "execution_count": 22,
     "metadata": {},
     "output_type": "execute_result"
    }
   ],
   "source": [
    "IdeaSpeed.describe()"
   ]
  },
  {
   "cell_type": "code",
   "execution_count": 23,
   "metadata": {},
   "outputs": [
    {
     "name": "stdout",
     "output_type": "stream",
     "text": [
      "138.61234867890528 1.1257937711258157e-81\n",
      "Probablity of Null hypothesis is 0.0%\n",
      "Which is less than the threshold of 5 %\n",
      "reject the null hypothesis\n"
     ]
    }
   ],
   "source": [
    "F, p = sc.stats.f_oneway(AirtelSpeed,JioSpeed,VodafoneSpeed,IdeaSpeed)\n",
    "print (F,p)\n",
    "pNullProb=round(p*100,4)\n",
    "threshold=5#% of accuracy we want to check\n",
    "print ('Probablity of Null hypothesis is '+str(pNullProb)+'%')\n",
    "if pNullProb<threshold:\n",
    "    print ('Which is less than the threshold of '+str(threshold)+ ' %')\n",
    "    print('reject the null hypothesis')\n",
    "else:\n",
    "    print('Fail to reject the null hypothesis')\n",
    "    print ('Which is greater than the threshold of '+str(threshold)+ '%')"
   ]
  },
  {
   "cell_type": "markdown",
   "metadata": {},
   "source": [
    "**Second approach for same problem is to implement it through OLS. Below is the implementation using OLS**"
   ]
  },
  {
   "cell_type": "code",
   "execution_count": 25,
   "metadata": {},
   "outputs": [
    {
     "data": {
      "text/html": [
       "<table class=\"simpletable\">\n",
       "<caption>OLS Regression Results</caption>\n",
       "<tr>\n",
       "  <th>Dep. Variable:</th>      <td>Median_Speed</td>   <th>  R-squared:         </th> <td>   0.171</td> \n",
       "</tr>\n",
       "<tr>\n",
       "  <th>Model:</th>                   <td>OLS</td>       <th>  Adj. R-squared:    </th> <td>   0.169</td> \n",
       "</tr>\n",
       "<tr>\n",
       "  <th>Method:</th>             <td>Least Squares</td>  <th>  F-statistic:       </th> <td>   138.6</td> \n",
       "</tr>\n",
       "<tr>\n",
       "  <th>Date:</th>             <td>Thu, 12 Oct 2023</td> <th>  Prob (F-statistic):</th> <td>1.13e-81</td> \n",
       "</tr>\n",
       "<tr>\n",
       "  <th>Time:</th>                 <td>13:23:22</td>     <th>  Log-Likelihood:    </th> <td> -6560.5</td> \n",
       "</tr>\n",
       "<tr>\n",
       "  <th>No. Observations:</th>      <td>  2027</td>      <th>  AIC:               </th> <td>1.313e+04</td>\n",
       "</tr>\n",
       "<tr>\n",
       "  <th>Df Residuals:</th>          <td>  2023</td>      <th>  BIC:               </th> <td>1.315e+04</td>\n",
       "</tr>\n",
       "<tr>\n",
       "  <th>Df Model:</th>              <td>     3</td>      <th>                     </th>     <td> </td>    \n",
       "</tr>\n",
       "<tr>\n",
       "  <th>Covariance Type:</th>      <td>nonrobust</td>    <th>                     </th>     <td> </td>    \n",
       "</tr>\n",
       "</table>\n",
       "<table class=\"simpletable\">\n",
       "<tr>\n",
       "                 <td></td>                    <th>coef</th>     <th>std err</th>      <th>t</th>      <th>P>|t|</th>  <th>[0.025</th>    <th>0.975]</th>  \n",
       "</tr>\n",
       "<tr>\n",
       "  <th>Intercept</th>                       <td>    5.5557</td> <td>    0.263</td> <td>   21.140</td> <td> 0.000</td> <td>    5.040</td> <td>    6.071</td>\n",
       "</tr>\n",
       "<tr>\n",
       "  <th>C(Service_Provider)[T.IDEA]</th>     <td>   -1.5297</td> <td>    0.384</td> <td>   -3.982</td> <td> 0.000</td> <td>   -2.283</td> <td>   -0.776</td>\n",
       "</tr>\n",
       "<tr>\n",
       "  <th>C(Service_Provider)[T.JIO]</th>      <td>    5.1685</td> <td>    0.372</td> <td>   13.906</td> <td> 0.000</td> <td>    4.440</td> <td>    5.897</td>\n",
       "</tr>\n",
       "<tr>\n",
       "  <th>C(Service_Provider)[T.VODAFONE]</th> <td>   -1.4972</td> <td>    0.393</td> <td>   -3.805</td> <td> 0.000</td> <td>   -2.269</td> <td>   -0.726</td>\n",
       "</tr>\n",
       "</table>\n",
       "<table class=\"simpletable\">\n",
       "<tr>\n",
       "  <th>Omnibus:</th>       <td>1249.649</td> <th>  Durbin-Watson:     </th> <td>   1.985</td> \n",
       "</tr>\n",
       "<tr>\n",
       "  <th>Prob(Omnibus):</th>  <td> 0.000</td>  <th>  Jarque-Bera (JB):  </th> <td>14326.468</td>\n",
       "</tr>\n",
       "<tr>\n",
       "  <th>Skew:</th>           <td> 2.757</td>  <th>  Prob(JB):          </th> <td>    0.00</td> \n",
       "</tr>\n",
       "<tr>\n",
       "  <th>Kurtosis:</th>       <td>14.799</td>  <th>  Cond. No.          </th> <td>    4.63</td> \n",
       "</tr>\n",
       "</table><br/><br/>Notes:<br/>[1] Standard Errors assume that the covariance matrix of the errors is correctly specified."
      ],
      "text/plain": [
       "<class 'statsmodels.iolib.summary.Summary'>\n",
       "\"\"\"\n",
       "                            OLS Regression Results                            \n",
       "==============================================================================\n",
       "Dep. Variable:           Median_Speed   R-squared:                       0.171\n",
       "Model:                            OLS   Adj. R-squared:                  0.169\n",
       "Method:                 Least Squares   F-statistic:                     138.6\n",
       "Date:                Thu, 12 Oct 2023   Prob (F-statistic):           1.13e-81\n",
       "Time:                        13:23:22   Log-Likelihood:                -6560.5\n",
       "No. Observations:                2027   AIC:                         1.313e+04\n",
       "Df Residuals:                    2023   BIC:                         1.315e+04\n",
       "Df Model:                           3                                         \n",
       "Covariance Type:            nonrobust                                         \n",
       "===================================================================================================\n",
       "                                      coef    std err          t      P>|t|      [0.025      0.975]\n",
       "---------------------------------------------------------------------------------------------------\n",
       "Intercept                           5.5557      0.263     21.140      0.000       5.040       6.071\n",
       "C(Service_Provider)[T.IDEA]        -1.5297      0.384     -3.982      0.000      -2.283      -0.776\n",
       "C(Service_Provider)[T.JIO]          5.1685      0.372     13.906      0.000       4.440       5.897\n",
       "C(Service_Provider)[T.VODAFONE]    -1.4972      0.393     -3.805      0.000      -2.269      -0.726\n",
       "==============================================================================\n",
       "Omnibus:                     1249.649   Durbin-Watson:                   1.985\n",
       "Prob(Omnibus):                  0.000   Jarque-Bera (JB):            14326.468\n",
       "Skew:                           2.757   Prob(JB):                         0.00\n",
       "Kurtosis:                      14.799   Cond. No.                         4.63\n",
       "==============================================================================\n",
       "\n",
       "Notes:\n",
       "[1] Standard Errors assume that the covariance matrix of the errors is correctly specified.\n",
       "\"\"\""
      ]
     },
     "execution_count": 25,
     "metadata": {},
     "output_type": "execute_result"
    }
   ],
   "source": [
    "data_4g=df.loc[ (df.Technology == '4G') ,:]\n",
    "model = ols('Median_Speed ~ C(Service_Provider)', data=data_4g).fit()\n",
    "model.summary()"
   ]
  },
  {
   "cell_type": "code",
   "execution_count": 26,
   "metadata": {},
   "outputs": [
    {
     "data": {
      "text/html": [
       "<div>\n",
       "<style scoped>\n",
       "    .dataframe tbody tr th:only-of-type {\n",
       "        vertical-align: middle;\n",
       "    }\n",
       "\n",
       "    .dataframe tbody tr th {\n",
       "        vertical-align: top;\n",
       "    }\n",
       "\n",
       "    .dataframe thead th {\n",
       "        text-align: right;\n",
       "    }\n",
       "</style>\n",
       "<table border=\"1\" class=\"dataframe\">\n",
       "  <thead>\n",
       "    <tr style=\"text-align: right;\">\n",
       "      <th></th>\n",
       "      <th>df</th>\n",
       "      <th>sum_sq</th>\n",
       "      <th>mean_sq</th>\n",
       "      <th>F</th>\n",
       "      <th>PR(&gt;F)</th>\n",
       "    </tr>\n",
       "  </thead>\n",
       "  <tbody>\n",
       "    <tr>\n",
       "      <th>C(Service_Provider)</th>\n",
       "      <td>3.0</td>\n",
       "      <td>15796.426878</td>\n",
       "      <td>5265.475626</td>\n",
       "      <td>138.612349</td>\n",
       "      <td>1.125794e-81</td>\n",
       "    </tr>\n",
       "    <tr>\n",
       "      <th>Residual</th>\n",
       "      <td>2023.0</td>\n",
       "      <td>76847.822674</td>\n",
       "      <td>37.987060</td>\n",
       "      <td>NaN</td>\n",
       "      <td>NaN</td>\n",
       "    </tr>\n",
       "  </tbody>\n",
       "</table>\n",
       "</div>"
      ],
      "text/plain": [
       "                         df        sum_sq      mean_sq           F  \\\n",
       "C(Service_Provider)     3.0  15796.426878  5265.475626  138.612349   \n",
       "Residual             2023.0  76847.822674    37.987060         NaN   \n",
       "\n",
       "                           PR(>F)  \n",
       "C(Service_Provider)  1.125794e-81  \n",
       "Residual                      NaN  "
      ]
     },
     "metadata": {},
     "output_type": "display_data"
    }
   ],
   "source": [
    "table=sm.stats.anova_lm(model,type=2)\n",
    "display(table)"
   ]
  },
  {
   "cell_type": "markdown",
   "metadata": {},
   "source": [
    "**Hence using both both implementations of  One way annova i.e f_oneway and OLS in this usecase case we reject the null hypotesis that each opertor has same mean speed and we accept the alternate hypothesis that atleast one operator has different speed**"
   ]
  },
  {
   "cell_type": "code",
   "execution_count": 27,
   "metadata": {
    "scrolled": true
   },
   "outputs": [
    {
     "data": {
      "image/png": "[encoded data removed]",
      "text/plain": [
       "<Figure size 640x480 with 1 Axes>"
      ]
     },
     "metadata": {},
     "output_type": "display_data"
    }
   ],
   "source": [
    "res = model.resid\n",
    "fig = sm.qqplot(res, line='s')\n",
    "plt.show()"
   ]
  },
  {
   "cell_type": "markdown",
   "metadata": {},
   "source": [
    "# Question5: State the hypothesis; perform the required test, and prove whether the average data speed of 3G networks in the country is the same or different from that of 4G networks."
   ]
  },
  {
   "cell_type": "markdown",
   "metadata": {},
   "source": [
    "**This is the fifthcase where we form null hypothesis as**\n",
    "**H0=Average speed of 3G network is equal to Average Speed of 4G Network**\n",
    "**H1=Average speed of 3G network is not equal to Average Speed of 4G Network**"
   ]
  },
  {
   "cell_type": "code",
   "execution_count": 28,
   "metadata": {},
   "outputs": [],
   "source": [
    "_3GMediaSpeed=df.loc[df.Technology == '3G' ,'Median_Speed']\n",
    "_4GMediaSpeed=df.loc[ (df.Technology == '4G') ,'Median_Speed']"
   ]
  },
  {
   "cell_type": "code",
   "execution_count": 29,
   "metadata": {},
   "outputs": [
    {
     "data": {
      "text/plain": [
       "count    1344.000000\n",
       "mean        1.473943\n",
       "std         1.080059\n",
       "min         0.003000\n",
       "25%         0.835750\n",
       "50%         1.186000\n",
       "75%         1.799750\n",
       "max        10.371000\n",
       "Name: Median_Speed, dtype: float64"
      ]
     },
     "execution_count": 29,
     "metadata": {},
     "output_type": "execute_result"
    }
   ],
   "source": [
    "_3GMediaSpeed.describe()"
   ]
  },
  {
   "cell_type": "code",
   "execution_count": 30,
   "metadata": {},
   "outputs": [
    {
     "data": {
      "text/plain": [
       "count    2027.000000\n",
       "mean        6.265596\n",
       "std         6.762223\n",
       "min         0.003500\n",
       "25%         2.923500\n",
       "50%         4.519000\n",
       "75%         6.537250\n",
       "max        52.255000\n",
       "Name: Median_Speed, dtype: float64"
      ]
     },
     "execution_count": 30,
     "metadata": {},
     "output_type": "execute_result"
    }
   ],
   "source": [
    "_4GMediaSpeed.describe()"
   ]
  },
  {
   "cell_type": "code",
   "execution_count": 31,
   "metadata": {},
   "outputs": [
    {
     "name": "stdout",
     "output_type": "stream",
     "text": [
      "Ttest_indResult(statistic=-31.305803397422597, pvalue=5.454221160852939e-178)\n",
      "Probablity of Null hypothesis is 0.0%\n",
      "Which is less than the threshold of 5 %\n"
     ]
    },
    {
     "data": {
      "text/plain": [
       "'Reject The Null Hypothesis'"
      ]
     },
     "execution_count": 31,
     "metadata": {},
     "output_type": "execute_result"
    }
   ],
   "source": [
    "#test null hypothesis that 3g speed is equal to 4g speed with 95% accuracy.\n",
    "#Hence take a threshold=5\n",
    "test_hypothesis_2sample_t_test(_3GMediaSpeed,_4GMediaSpeed,5)"
   ]
  },
  {
   "cell_type": "markdown",
   "metadata": {},
   "source": [
    "**Hence we reject the null hypothesis and accept the alternate hypothesis that Average speed of 3G network is not equal to Average Speed of 4G Network**"
   ]
  },
  {
   "cell_type": "markdown",
   "metadata": {},
   "source": [
    "# Question 6: State the hypothesis; perform the required test, and prove whether the average signal strength of 3G networks in the country is the same or different across LSAs."
   ]
  },
  {
   "cell_type": "markdown",
   "metadata": {},
   "source": [
    "**H0= 3G meadian Signal Strength is same across all LSA's**\n",
    "**H1= 3G meadian Signal Strength is different in atleast one LSA**\n",
    "**Here we want to compare signal strength of 3G network across all LSA's. This is typical implementation of one way annova.**"
   ]
  },
  {
   "cell_type": "code",
   "execution_count": 32,
   "metadata": {},
   "outputs": [],
   "source": [
    "df_3g=df.loc[(df.Technology=='3G'),:]"
   ]
  },
  {
   "cell_type": "code",
   "execution_count": 33,
   "metadata": {},
   "outputs": [
    {
     "data": {
      "text/html": [
       "<div>\n",
       "<style scoped>\n",
       "    .dataframe tbody tr th:only-of-type {\n",
       "        vertical-align: middle;\n",
       "    }\n",
       "\n",
       "    .dataframe tbody tr th {\n",
       "        vertical-align: top;\n",
       "    }\n",
       "\n",
       "    .dataframe thead th {\n",
       "        text-align: right;\n",
       "    }\n",
       "</style>\n",
       "<table border=\"1\" class=\"dataframe\">\n",
       "  <thead>\n",
       "    <tr style=\"text-align: right;\">\n",
       "      <th></th>\n",
       "      <th>Median_Speed</th>\n",
       "      <th>Median_Signal_Strength</th>\n",
       "    </tr>\n",
       "  </thead>\n",
       "  <tbody>\n",
       "    <tr>\n",
       "      <th>count</th>\n",
       "      <td>1344.000000</td>\n",
       "      <td>1344.000000</td>\n",
       "    </tr>\n",
       "    <tr>\n",
       "      <th>mean</th>\n",
       "      <td>1.473943</td>\n",
       "      <td>-84.802455</td>\n",
       "    </tr>\n",
       "    <tr>\n",
       "      <th>std</th>\n",
       "      <td>1.080059</td>\n",
       "      <td>6.302607</td>\n",
       "    </tr>\n",
       "    <tr>\n",
       "      <th>min</th>\n",
       "      <td>0.003000</td>\n",
       "      <td>-107.000000</td>\n",
       "    </tr>\n",
       "    <tr>\n",
       "      <th>25%</th>\n",
       "      <td>0.835750</td>\n",
       "      <td>-88.000000</td>\n",
       "    </tr>\n",
       "    <tr>\n",
       "      <th>50%</th>\n",
       "      <td>1.186000</td>\n",
       "      <td>-85.000000</td>\n",
       "    </tr>\n",
       "    <tr>\n",
       "      <th>75%</th>\n",
       "      <td>1.799750</td>\n",
       "      <td>-83.000000</td>\n",
       "    </tr>\n",
       "    <tr>\n",
       "      <th>max</th>\n",
       "      <td>10.371000</td>\n",
       "      <td>-51.000000</td>\n",
       "    </tr>\n",
       "  </tbody>\n",
       "</table>\n",
       "</div>"
      ],
      "text/plain": [
       "       Median_Speed  Median_Signal_Strength\n",
       "count   1344.000000             1344.000000\n",
       "mean       1.473943              -84.802455\n",
       "std        1.080059                6.302607\n",
       "min        0.003000             -107.000000\n",
       "25%        0.835750              -88.000000\n",
       "50%        1.186000              -85.000000\n",
       "75%        1.799750              -83.000000\n",
       "max       10.371000              -51.000000"
      ]
     },
     "execution_count": 33,
     "metadata": {},
     "output_type": "execute_result"
    }
   ],
   "source": [
    "df_3g.describe()"
   ]
  },
  {
   "cell_type": "code",
   "execution_count": 34,
   "metadata": {},
   "outputs": [
    {
     "data": {
      "text/html": [
       "<div>\n",
       "<style scoped>\n",
       "    .dataframe tbody tr th:only-of-type {\n",
       "        vertical-align: middle;\n",
       "    }\n",
       "\n",
       "    .dataframe tbody tr th {\n",
       "        vertical-align: top;\n",
       "    }\n",
       "\n",
       "    .dataframe thead th {\n",
       "        text-align: right;\n",
       "    }\n",
       "</style>\n",
       "<table border=\"1\" class=\"dataframe\">\n",
       "  <thead>\n",
       "    <tr style=\"text-align: right;\">\n",
       "      <th></th>\n",
       "      <th>Month_Year</th>\n",
       "      <th>LSA</th>\n",
       "      <th>Service_Provider</th>\n",
       "      <th>Technology</th>\n",
       "      <th>Median_Speed</th>\n",
       "      <th>Median_Signal_Strength</th>\n",
       "    </tr>\n",
       "  </thead>\n",
       "  <tbody>\n",
       "    <tr>\n",
       "      <th>0</th>\n",
       "      <td>2018-03-01</td>\n",
       "      <td>Andhra Pradesh</td>\n",
       "      <td>AIRTEL</td>\n",
       "      <td>3G</td>\n",
       "      <td>1.105</td>\n",
       "      <td>-85.0</td>\n",
       "    </tr>\n",
       "    <tr>\n",
       "      <th>1</th>\n",
       "      <td>2018-03-01</td>\n",
       "      <td>Andhra Pradesh</td>\n",
       "      <td>IDEA</td>\n",
       "      <td>3G</td>\n",
       "      <td>1.880</td>\n",
       "      <td>-81.0</td>\n",
       "    </tr>\n",
       "    <tr>\n",
       "      <th>5</th>\n",
       "      <td>2018-03-01</td>\n",
       "      <td>Assam</td>\n",
       "      <td>AIRTEL</td>\n",
       "      <td>3G</td>\n",
       "      <td>1.555</td>\n",
       "      <td>-85.0</td>\n",
       "    </tr>\n",
       "    <tr>\n",
       "      <th>6</th>\n",
       "      <td>2018-03-01</td>\n",
       "      <td>Assam</td>\n",
       "      <td>VODAFONE</td>\n",
       "      <td>3G</td>\n",
       "      <td>0.340</td>\n",
       "      <td>-85.0</td>\n",
       "    </tr>\n",
       "    <tr>\n",
       "      <th>11</th>\n",
       "      <td>2018-03-01</td>\n",
       "      <td>Bihar</td>\n",
       "      <td>AIRTEL</td>\n",
       "      <td>3G</td>\n",
       "      <td>1.090</td>\n",
       "      <td>-83.0</td>\n",
       "    </tr>\n",
       "  </tbody>\n",
       "</table>\n",
       "</div>"
      ],
      "text/plain": [
       "   Month_Year             LSA Service_Provider Technology  Median_Speed  \\\n",
       "0  2018-03-01  Andhra Pradesh           AIRTEL         3G         1.105   \n",
       "1  2018-03-01  Andhra Pradesh             IDEA         3G         1.880   \n",
       "5  2018-03-01           Assam           AIRTEL         3G         1.555   \n",
       "6  2018-03-01           Assam         VODAFONE         3G         0.340   \n",
       "11 2018-03-01           Bihar           AIRTEL         3G         1.090   \n",
       "\n",
       "    Median_Signal_Strength  \n",
       "0                    -85.0  \n",
       "1                    -81.0  \n",
       "5                    -85.0  \n",
       "6                    -85.0  \n",
       "11                   -83.0  "
      ]
     },
     "execution_count": 34,
     "metadata": {},
     "output_type": "execute_result"
    }
   ],
   "source": [
    "df_3g.head()"
   ]
  },
  {
   "cell_type": "code",
   "execution_count": 35,
   "metadata": {},
   "outputs": [
    {
     "data": {
      "text/html": [
       "<div>\n",
       "<style scoped>\n",
       "    .dataframe tbody tr th:only-of-type {\n",
       "        vertical-align: middle;\n",
       "    }\n",
       "\n",
       "    .dataframe tbody tr th {\n",
       "        vertical-align: top;\n",
       "    }\n",
       "\n",
       "    .dataframe thead th {\n",
       "        text-align: right;\n",
       "    }\n",
       "</style>\n",
       "<table border=\"1\" class=\"dataframe\">\n",
       "  <thead>\n",
       "    <tr style=\"text-align: right;\">\n",
       "      <th></th>\n",
       "      <th>df</th>\n",
       "      <th>sum_sq</th>\n",
       "      <th>mean_sq</th>\n",
       "      <th>F</th>\n",
       "      <th>PR(&gt;F)</th>\n",
       "    </tr>\n",
       "  </thead>\n",
       "  <tbody>\n",
       "    <tr>\n",
       "      <th>C(LSA)</th>\n",
       "      <td>21.0</td>\n",
       "      <td>6898.835546</td>\n",
       "      <td>328.515978</td>\n",
       "      <td>9.350006</td>\n",
       "      <td>4.185082e-28</td>\n",
       "    </tr>\n",
       "    <tr>\n",
       "      <th>Residual</th>\n",
       "      <td>1322.0</td>\n",
       "      <td>46448.966351</td>\n",
       "      <td>35.135375</td>\n",
       "      <td>NaN</td>\n",
       "      <td>NaN</td>\n",
       "    </tr>\n",
       "  </tbody>\n",
       "</table>\n",
       "</div>"
      ],
      "text/plain": [
       "              df        sum_sq     mean_sq         F        PR(>F)\n",
       "C(LSA)      21.0   6898.835546  328.515978  9.350006  4.185082e-28\n",
       "Residual  1322.0  46448.966351   35.135375       NaN           NaN"
      ]
     },
     "metadata": {},
     "output_type": "display_data"
    }
   ],
   "source": [
    "model = ols('Median_Signal_Strength ~ C(LSA)', data=df_3g).fit()\n",
    "table=sm.stats.anova_lm(model,type=2)\n",
    "display(table)"
   ]
  },
  {
   "cell_type": "markdown",
   "metadata": {},
   "source": [
    "**Since P Value is significantly less than .05 we can reject the null hypothesis and accept alternate hypothesis that 3G meadian Signal Strength is different in atleast one LSA**"
   ]
  },
  {
   "cell_type": "markdown",
   "metadata": {},
   "source": [
    "# Question 7: State the hypothesis; perform the required test, and prove whether the average speed of 4G networks in the country is the same or different across LSAs and operators."
   ]
  },
  {
   "cell_type": "markdown",
   "metadata": {},
   "source": [
    "**H0=Average speed of 4G network is same across LSA's and Operators**\n",
    "**H1=Average speed of 4G network is different at least for one LSA across Operators**\n",
    "\n",
    "**This is typically a two way ANOVA problem with two variables, in order to see intersection of 2 variables in 2 way ANOVA**"
   ]
  },
  {
   "cell_type": "code",
   "execution_count": 36,
   "metadata": {},
   "outputs": [],
   "source": [
    "df_4g=df.loc[(df.Technology=='4G'),:]"
   ]
  },
  {
   "cell_type": "code",
   "execution_count": 37,
   "metadata": {},
   "outputs": [
    {
     "data": {
      "text/html": [
       "<div>\n",
       "<style scoped>\n",
       "    .dataframe tbody tr th:only-of-type {\n",
       "        vertical-align: middle;\n",
       "    }\n",
       "\n",
       "    .dataframe tbody tr th {\n",
       "        vertical-align: top;\n",
       "    }\n",
       "\n",
       "    .dataframe thead th {\n",
       "        text-align: right;\n",
       "    }\n",
       "</style>\n",
       "<table border=\"1\" class=\"dataframe\">\n",
       "  <thead>\n",
       "    <tr style=\"text-align: right;\">\n",
       "      <th></th>\n",
       "      <th>Median_Speed</th>\n",
       "      <th>Median_Signal_Strength</th>\n",
       "    </tr>\n",
       "  </thead>\n",
       "  <tbody>\n",
       "    <tr>\n",
       "      <th>count</th>\n",
       "      <td>2027.000000</td>\n",
       "      <td>2027.000000</td>\n",
       "    </tr>\n",
       "    <tr>\n",
       "      <th>mean</th>\n",
       "      <td>6.265596</td>\n",
       "      <td>-93.184509</td>\n",
       "    </tr>\n",
       "    <tr>\n",
       "      <th>std</th>\n",
       "      <td>6.762223</td>\n",
       "      <td>6.354627</td>\n",
       "    </tr>\n",
       "    <tr>\n",
       "      <th>min</th>\n",
       "      <td>0.003500</td>\n",
       "      <td>-111.000000</td>\n",
       "    </tr>\n",
       "    <tr>\n",
       "      <th>25%</th>\n",
       "      <td>2.923500</td>\n",
       "      <td>-97.000000</td>\n",
       "    </tr>\n",
       "    <tr>\n",
       "      <th>50%</th>\n",
       "      <td>4.519000</td>\n",
       "      <td>-95.000000</td>\n",
       "    </tr>\n",
       "    <tr>\n",
       "      <th>75%</th>\n",
       "      <td>6.537250</td>\n",
       "      <td>-91.500000</td>\n",
       "    </tr>\n",
       "    <tr>\n",
       "      <th>max</th>\n",
       "      <td>52.255000</td>\n",
       "      <td>-57.000000</td>\n",
       "    </tr>\n",
       "  </tbody>\n",
       "</table>\n",
       "</div>"
      ],
      "text/plain": [
       "       Median_Speed  Median_Signal_Strength\n",
       "count   2027.000000             2027.000000\n",
       "mean       6.265596              -93.184509\n",
       "std        6.762223                6.354627\n",
       "min        0.003500             -111.000000\n",
       "25%        2.923500              -97.000000\n",
       "50%        4.519000              -95.000000\n",
       "75%        6.537250              -91.500000\n",
       "max       52.255000              -57.000000"
      ]
     },
     "execution_count": 37,
     "metadata": {},
     "output_type": "execute_result"
    }
   ],
   "source": [
    "df_4g.describe()"
   ]
  },
  {
   "cell_type": "code",
   "execution_count": 38,
   "metadata": {},
   "outputs": [
    {
     "data": {
      "text/html": [
       "<div>\n",
       "<style scoped>\n",
       "    .dataframe tbody tr th:only-of-type {\n",
       "        vertical-align: middle;\n",
       "    }\n",
       "\n",
       "    .dataframe tbody tr th {\n",
       "        vertical-align: top;\n",
       "    }\n",
       "\n",
       "    .dataframe thead th {\n",
       "        text-align: right;\n",
       "    }\n",
       "</style>\n",
       "<table border=\"1\" class=\"dataframe\">\n",
       "  <thead>\n",
       "    <tr style=\"text-align: right;\">\n",
       "      <th></th>\n",
       "      <th>Month_Year</th>\n",
       "      <th>LSA</th>\n",
       "      <th>Service_Provider</th>\n",
       "      <th>Technology</th>\n",
       "      <th>Median_Speed</th>\n",
       "      <th>Median_Signal_Strength</th>\n",
       "    </tr>\n",
       "  </thead>\n",
       "  <tbody>\n",
       "    <tr>\n",
       "      <th>2</th>\n",
       "      <td>2018-03-01</td>\n",
       "      <td>Andhra Pradesh</td>\n",
       "      <td>AIRTEL</td>\n",
       "      <td>4G</td>\n",
       "      <td>5.190</td>\n",
       "      <td>-97.0</td>\n",
       "    </tr>\n",
       "    <tr>\n",
       "      <th>3</th>\n",
       "      <td>2018-03-01</td>\n",
       "      <td>Andhra Pradesh</td>\n",
       "      <td>IDEA</td>\n",
       "      <td>4G</td>\n",
       "      <td>2.120</td>\n",
       "      <td>-91.0</td>\n",
       "    </tr>\n",
       "    <tr>\n",
       "      <th>4</th>\n",
       "      <td>2018-03-01</td>\n",
       "      <td>Andhra Pradesh</td>\n",
       "      <td>JIO</td>\n",
       "      <td>4G</td>\n",
       "      <td>6.940</td>\n",
       "      <td>-91.0</td>\n",
       "    </tr>\n",
       "    <tr>\n",
       "      <th>7</th>\n",
       "      <td>2018-03-01</td>\n",
       "      <td>Assam</td>\n",
       "      <td>AIRTEL</td>\n",
       "      <td>4G</td>\n",
       "      <td>5.715</td>\n",
       "      <td>-97.0</td>\n",
       "    </tr>\n",
       "    <tr>\n",
       "      <th>8</th>\n",
       "      <td>2018-03-01</td>\n",
       "      <td>Assam</td>\n",
       "      <td>IDEA</td>\n",
       "      <td>4G</td>\n",
       "      <td>4.000</td>\n",
       "      <td>-99.0</td>\n",
       "    </tr>\n",
       "  </tbody>\n",
       "</table>\n",
       "</div>"
      ],
      "text/plain": [
       "  Month_Year             LSA Service_Provider Technology  Median_Speed  \\\n",
       "2 2018-03-01  Andhra Pradesh           AIRTEL         4G         5.190   \n",
       "3 2018-03-01  Andhra Pradesh             IDEA         4G         2.120   \n",
       "4 2018-03-01  Andhra Pradesh              JIO         4G         6.940   \n",
       "7 2018-03-01           Assam           AIRTEL         4G         5.715   \n",
       "8 2018-03-01           Assam             IDEA         4G         4.000   \n",
       "\n",
       "   Median_Signal_Strength  \n",
       "2                   -97.0  \n",
       "3                   -91.0  \n",
       "4                   -91.0  \n",
       "7                   -97.0  \n",
       "8                   -99.0  "
      ]
     },
     "execution_count": 38,
     "metadata": {},
     "output_type": "execute_result"
    }
   ],
   "source": [
    "df_4g.head()"
   ]
  },
  {
   "cell_type": "code",
   "execution_count": 39,
   "metadata": {},
   "outputs": [
    {
     "data": {
      "text/html": [
       "<div>\n",
       "<style scoped>\n",
       "    .dataframe tbody tr th:only-of-type {\n",
       "        vertical-align: middle;\n",
       "    }\n",
       "\n",
       "    .dataframe tbody tr th {\n",
       "        vertical-align: top;\n",
       "    }\n",
       "\n",
       "    .dataframe thead th {\n",
       "        text-align: right;\n",
       "    }\n",
       "</style>\n",
       "<table border=\"1\" class=\"dataframe\">\n",
       "  <thead>\n",
       "    <tr style=\"text-align: right;\">\n",
       "      <th></th>\n",
       "      <th>df</th>\n",
       "      <th>sum_sq</th>\n",
       "      <th>mean_sq</th>\n",
       "      <th>F</th>\n",
       "      <th>PR(&gt;F)</th>\n",
       "    </tr>\n",
       "  </thead>\n",
       "  <tbody>\n",
       "    <tr>\n",
       "      <th>C(LSA)</th>\n",
       "      <td>21.0</td>\n",
       "      <td>5222.516929</td>\n",
       "      <td>248.691282</td>\n",
       "      <td>8.637255</td>\n",
       "      <td>3.902815e-26</td>\n",
       "    </tr>\n",
       "    <tr>\n",
       "      <th>C(Service_Provider)</th>\n",
       "      <td>3.0</td>\n",
       "      <td>15832.541698</td>\n",
       "      <td>5277.513899</td>\n",
       "      <td>183.292453</td>\n",
       "      <td>1.259245e-104</td>\n",
       "    </tr>\n",
       "    <tr>\n",
       "      <th>C(LSA):C(Service_Provider)</th>\n",
       "      <td>63.0</td>\n",
       "      <td>15759.835877</td>\n",
       "      <td>250.156125</td>\n",
       "      <td>8.688131</td>\n",
       "      <td>2.800617e-67</td>\n",
       "    </tr>\n",
       "    <tr>\n",
       "      <th>Residual</th>\n",
       "      <td>1939.0</td>\n",
       "      <td>55829.355047</td>\n",
       "      <td>28.792860</td>\n",
       "      <td>NaN</td>\n",
       "      <td>NaN</td>\n",
       "    </tr>\n",
       "  </tbody>\n",
       "</table>\n",
       "</div>"
      ],
      "text/plain": [
       "                                df        sum_sq      mean_sq           F  \\\n",
       "C(LSA)                        21.0   5222.516929   248.691282    8.637255   \n",
       "C(Service_Provider)            3.0  15832.541698  5277.513899  183.292453   \n",
       "C(LSA):C(Service_Provider)    63.0  15759.835877   250.156125    8.688131   \n",
       "Residual                    1939.0  55829.355047    28.792860         NaN   \n",
       "\n",
       "                                   PR(>F)  \n",
       "C(LSA)                       3.902815e-26  \n",
       "C(Service_Provider)         1.259245e-104  \n",
       "C(LSA):C(Service_Provider)   2.800617e-67  \n",
       "Residual                              NaN  "
      ]
     },
     "metadata": {},
     "output_type": "display_data"
    }
   ],
   "source": [
    "model = ols('Median_Speed ~ C(LSA)*C(Service_Provider)', data=df_4g).fit()\n",
    "table=sm.stats.anova_lm(model,type=2)\n",
    "display(table)"
   ]
  },
  {
   "cell_type": "markdown",
   "metadata": {},
   "source": [
    "**Since All 3 P Values are significantly lower than .05 hence we reject null hypothesis and accept the alternate hypothesis that Average speed of 4G network is different in at least one combination LSA and Operators**"
   ]
  },
  {
   "cell_type": "markdown",
   "metadata": {},
   "source": [
    "# Question 8: Discuss briefly your recommendations to the operators."
   ]
  },
  {
   "cell_type": "markdown",
   "metadata": {},
   "source": [
    "***Following are observations of this case study:***\n",
    "    ***1. We fail to reject the null hypothesis that Average 4G Data speed in Haryana LSA is equal to Average 4G Data speed in Karnataka LSA.***\n",
    "    ***2. We reject the null hypotesis that each opertor has same mean speed and we accept the alternate hypothesis that atleast one operator has different speed***\n",
    "    ***3. We reject the null hypothesis and accept the alternate hypothesis that Average speed of 3G network is not equal to Average Speed of 4G Network***\n",
    "    ***4.  we reject the null hypothesis and accept alternate hypothesis that 3G meadian Signal Strength is different in atleast one LSA***\n",
    "    ***5.  we reject null hypothesis and accept the alternate hypothesis that Average speed of 4G network is different in at least one combination LSA and Operators***"
   ]
  },
  {
   "cell_type": "markdown",
   "metadata": {},
   "source": [
    "***The conclusion is that***\n",
    "\n",
    " ***Average Speed achieved from 4G technology is not eaual to that of 3g Technology***\n",
    "    ***Average Signal Strength of 3G technology is not same across country***\n",
    "    ***Average speed of 4G is different across LSA's and operators***\n",
    "    \n",
    "   ***Hence common finding is that telecom speed and signal strength is not uniformly distributed across the geography for all operators***"
   ]
  },
  {
   "cell_type": "markdown",
   "metadata": {},
   "source": [
    "# Recommendations to the operators"
   ]
  },
  {
   "cell_type": "markdown",
   "metadata": {},
   "source": [
    "***1.Different operators must have similar 3G & 4G speeds in same LSA as ground conditions for all operators are same.***\n",
    "***2. Operators should do necessary upgradations in their infra to avoid so much variance in an LSA itself for proper network quality***\n",
    "***3. Operators should work to lower the variance in their speeds among different LSAs to provide better connectivities to far flung LSAs as well for overall betterment of unconnected areas.***"
   ]
  }
 ],
 "metadata": {
  "kernelspec": {
   "display_name": "Python 3 (ipykernel)",
   "language": "python",
   "name": "python3"
  },
  "language_info": {
   "codemirror_mode": {
    "name": "ipython",
    "version": 3
   },
   "file_extension": ".py",
   "mimetype": "text/x-python",
   "name": "python",
   "nbconvert_exporter": "python",
   "pygments_lexer": "ipython3",
   "version": "3.11.3"
  }
 },
 "nbformat": 4,
 "nbformat_minor": 4
}
