{
  "nbformat": 4,
  "nbformat_minor": 0,
  "metadata": {
    "colab": {
      "provenance": []
    },
    "kernelspec": {
      "name": "python3",
      "display_name": "Python 3"
    },
    "language_info": {
      "name": "python"
    }
  },
  "cells": [
    {
      "cell_type": "markdown",
      "source": [
        "1). Consider that email IDs are supposed to be for the following format:\n",
        "username@website.extension.\n",
        "Here, there are three conditions to keep in mind:\n",
        "1. The username can only contain characters 0-9, a-z and A-Z.\n",
        "2. The website name can contain only characters a-z\n",
        "3. The extension can have 2 or 3 alphabets(a-z).\n",
        "\n",
        "Given an email ID, you have to determine if it is valid or not.\n",
        "\n",
        "Sample Input:\n",
        "prerna@upgrad.com\n",
        "\n",
        "Sample Output:\n",
        "valid"
      ],
      "metadata": {
        "id": "Jmmmv0wTRnQ4"
      }
    },
    {
      "cell_type": "code",
      "execution_count": 2,
      "metadata": {
        "colab": {
          "base_uri": "https://localhost:8080/"
        },
        "id": "3HG9IUo2QDsw",
        "outputId": "36fd22e0-deba-4306-991c-7b53d11064cf"
      },
      "outputs": [
        {
          "output_type": "stream",
          "name": "stdout",
          "text": [
            "abhi@ref.ci\n",
            "valid\n"
          ]
        }
      ],
      "source": [
        "import re\n",
        "\n",
        "def checkmail(email):\n",
        "    pattern = r'^[0-9a-zA-Z]+@[a-z]+\\.[a-z]{2,3}$'\n",
        "\n",
        "    # Use the re.match() function to check if the email matches the pattern\n",
        "    if re.match(pattern, email):\n",
        "        return \"valid\"\n",
        "    else:\n",
        "        return \"invalid\"\n",
        "\n",
        "email=input()\n",
        "\n",
        "print(checkmail(email))\n",
        "\n",
        "\n",
        "\n",
        "\n"
      ]
    },
    {
      "cell_type": "markdown",
      "source": [
        "2).  Given a nested list, write python code to flatten the list.\n",
        "Note: The input list will strictly have 2 levels, i.e. the list will be of the form [[1,2],[3,4]]. Inputs like [1,[2,3]] and [[1,[2,3],4],5] are not applicable.\n",
        "\n",
        "For example: If the input list is :\n",
        "[[1,2,3],[4,5],[6,7,8,9]]\n",
        "Then the output should be:\n",
        "[1,2,3,4,5,6,7,8,9]"
      ],
      "metadata": {
        "id": "fmVz9X5fYkx3"
      }
    },
    {
      "cell_type": "code",
      "source": [
        "import numpy as np\n",
        "\n",
        "# Read the input string from the user\n",
        "input_str = input()\n",
        "\n",
        "# Create a NumPy array from the nested list\n",
        "input_list = np.array(input_str)\n",
        "\n",
        "flat_list = [element for sublist in input_list for element in sublist]\n",
        "\n",
        "print(flat_list)\n"
      ],
      "metadata": {
        "colab": {
          "base_uri": "https://localhost:8080/"
        },
        "id": "aoj4ZhGgQ5nh",
        "outputId": "1d667164-d865-41bf-935d-7b813acdae41"
      },
      "execution_count": 11,
      "outputs": [
        {
          "output_type": "stream",
          "name": "stdout",
          "text": [
            "[[1,2,3],[4,5],[6,7,8,9]]\n",
            "[1, 2, 3, 4, 5, 6, 7, 8, 9]\n"
          ]
        }
      ]
    },
    {
      "cell_type": "markdown",
      "source": [
        "3). Given a list of positive integers, you have to find numbers divisible by 3 and replace them with their squares.\n",
        "For example, consider the list below:\n",
        "Input: [1,2,3,4,5,6]\n",
        "The output for the above list would be: [1,2,9,4,5,36]. Because 3 and 6 were divisible by 3, these numbers were replaced with their squares."
      ],
      "metadata": {
        "id": "P0rUPtQSebHR"
      }
    },
    {
      "cell_type": "code",
      "source": [
        "import numpy as np\n",
        "\n",
        "# Read the input string from the user\n",
        "input_str = input()\n",
        "\n",
        "# Use eval to evaluate the input string and create a list.    ----->> CHECK EVAL()\n",
        "input_list = eval(input_str)\n",
        "\n",
        "# Convert the list into a NumPy array\n",
        "input_array = np.array(input_list)\n",
        "\n",
        "# Use a lambda function to square the number if it's divisible by 3, otherwise leave it unchanged\n",
        "output = list(map(lambda x: x * x if x % 3 == 0 else x, input_array))\n",
        "\n",
        "# Print the result\n",
        "print(output)\n"
      ],
      "metadata": {
        "colab": {
          "base_uri": "https://localhost:8080/"
        },
        "id": "qk_4GX5OZXCl",
        "outputId": "c17c29b7-74af-423b-c4c0-b2273f772e7a"
      },
      "execution_count": 21,
      "outputs": [
        {
          "output_type": "stream",
          "name": "stdout",
          "text": [
            "[1,2,3,4,5,6]\n",
            "[1, 2, 9, 4, 5, 36]\n"
          ]
        }
      ]
    },
    {
      "cell_type": "markdown",
      "source": [
        "4).  Write a program that computes the value of n+nn+nnn+nnnn with a given digit as the value of n.\n",
        "For example, if n=9 , then you have to find the value of 9+99+999+9999."
      ],
      "metadata": {
        "id": "_q_zZ4YKhUGG"
      }
    },
    {
      "cell_type": "code",
      "source": [
        "n = int(input())\n",
        "\n",
        "def sum_special(n,p):\n",
        "  total_sum = 0\n",
        "  for i in range(0,p):\n",
        "    total_sum += n*pow(10,i)\n",
        "  return total_sum\n",
        "\n",
        "\n",
        "sum_out = sum_special(n,1) + sum_special(n,2) + sum_special(n,3) + sum_special(n,4)\n",
        "\n",
        "print(sum_out)\n",
        "\n",
        "\n"
      ],
      "metadata": {
        "colab": {
          "base_uri": "https://localhost:8080/"
        },
        "id": "-gSmZClXew12",
        "outputId": "3a24a3e7-8c46-4813-b7de-607bb2fb8b50"
      },
      "execution_count": 46,
      "outputs": [
        {
          "output_type": "stream",
          "name": "stdout",
          "text": [
            "9\n",
            "11106\n"
          ]
        }
      ]
    },
    {
      "cell_type": "markdown",
      "source": [
        "5).  Given a string, you have to find the first n most frequent characters in it.\n",
        "You have to print the three letters in alphabetically sorted order.\n",
        "The input will contain two lines, the first line will contain a string and the second line will contain the letter n.\n",
        "The output should be a list of n most frequent letters in alphabetically sorted order.\n",
        "Note: If there are two letters with the same frequency, then the alphabetically preceding alphabet should be picked first. (For example, in \"aabbccc\", if n=2, then output list would have c and a.)\n",
        "Sample Input:\n",
        "ddddaacccb\n",
        "3\n",
        "Sample Output:\n",
        "['a', 'c', 'd']\n",
        "\n",
        "In the above example, the order of frequencies is : d>c>a>b\n",
        "Here, d,c and a are three most frequent characters which are displayed in alphabetically sorted order."
      ],
      "metadata": {
        "id": "BiCevSdAnvpc"
      }
    },
    {
      "cell_type": "code",
      "source": [
        "# Read the input string\n",
        "input_str = input().strip()\n",
        "\n",
        "# Read the value of n\n",
        "n = int(input())\n",
        "\n",
        "# Create a dictionary to store character frequencies\n",
        "char_freq = {}\n",
        "\n",
        "# Calculate character frequencies\n",
        "for char in input_str:\n",
        "    char_freq[char] = char_freq.get(char, 0) + 1\n",
        "\n",
        "# Sort the characters by frequency and then alphabetically\n",
        "sorted_chars = sorted(char_freq.keys(), key=lambda char: (-char_freq[char], char))\n",
        "\n",
        "# Extract the first n characters\n",
        "result = sorted_chars[:n]\n",
        "\n",
        "# Sort the result alphabetically\n",
        "result.sort()\n",
        "\n",
        "# Print the result as a list\n",
        "print(result)\n"
      ],
      "metadata": {
        "colab": {
          "base_uri": "https://localhost:8080/"
        },
        "id": "ERIWPUDgny1M",
        "outputId": "f2abbfc4-30d6-49de-db9c-118404893f86"
      },
      "execution_count": 2,
      "outputs": [
        {
          "output_type": "stream",
          "name": "stdout",
          "text": [
            "kjashdjahdskhadksjaksdamd\n",
            "3\n",
            "['a', 'd', 'k']\n"
          ]
        }
      ]
    },
    {
      "cell_type": "markdown",
      "source": [
        "6).  Write Python code which takes 2 numbers x and y as input and generates a 2-dimensional numpy array where value in the i-th row and j-th column of the array should be (i+j)/2.\n",
        "Note: i=0,1,...x-1 and j=0,1....,y-1\n",
        "The input will have two lines with x and y respectively.\n",
        "The output should be a 2D numpy array.\n",
        "Sample Input:\n",
        "3\n",
        "4\n",
        "Sample Output:\n",
        "\n",
        "[[0.  0.5 1.  1.5]\n",
        " [0.5 1.  1.5 2. ]\n",
        " [1.  1.5 2.  2.5]]"
      ],
      "metadata": {
        "id": "tilwm-yBnn4g"
      }
    },
    {
      "cell_type": "code",
      "source": [
        "import numpy as np\n",
        "\n",
        "x=int(input())\n",
        "y=int(input())\n",
        "#write your code here\n",
        "\n",
        "a = np.zeros((x,y))\n",
        "\n",
        "for i in range(0,x):\n",
        "    for j in range(0,y):\n",
        "        a[i,j]=(i+j)/2\n",
        "\n",
        "print(a)"
      ],
      "metadata": {
        "colab": {
          "base_uri": "https://localhost:8080/"
        },
        "id": "7fyWXyQIkKTF",
        "outputId": "82ac1fb5-1bae-40ce-8272-8bba72a74aaa"
      },
      "execution_count": 9,
      "outputs": [
        {
          "output_type": "stream",
          "name": "stdout",
          "text": [
            "3\n",
            "4\n",
            "[[0.  0.5 1.  1.5]\n",
            " [0.5 1.  1.5 2. ]\n",
            " [1.  1.5 2.  2.5]]\n"
          ]
        }
      ]
    },
    {
      "cell_type": "code",
      "source": [],
      "metadata": {
        "id": "OllIflJzn5ll"
      },
      "execution_count": null,
      "outputs": []
    }
  ]
}